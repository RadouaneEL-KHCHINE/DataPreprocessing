{
 "cells": [
  {
   "cell_type": "markdown",
   "metadata": {},
   "source": [
    "# ==========\n",
    "#  Test Mappy\n",
    "# =========="
   ]
  },
  {
   "cell_type": "code",
   "execution_count": 33,
   "metadata": {},
   "outputs": [],
   "source": [
    "with open(\"tornik-map-20171006.10000.tsv\", \"r\", encoding=\"utf-8\") as tornikF:\n",
    "    \n",
    "    viewMode0 = \"\"\n",
    "    \n",
    "    with open(\"result.tsv\", \"w\", encoding=\"utf-8\") as resultTornikF:\n",
    "    \n",
    "        for line in tornikF.readlines():\n",
    "            try:\n",
    "                \n",
    "                target = line.split(\"\\t\")[1].split('/')\n",
    "        \n",
    "                if target[1] == \"map\":\n",
    "            \n",
    "                    viewMode = target[4]\n",
    "                    zoomLevel = target[6]\n",
    "            \n",
    "                    if viewMode == viewMode0:\n",
    "                        numVM = numVM + 1\n",
    "                        zoomArr.append(zoomLevel)\n",
    "                    else:\n",
    "                        if viewMode0 != \"\":\n",
    "                            resultTornikF.write(\"\\t\".join([viewMode0, str(numVM), \",\".join(zoomArr)])+\"\\n\")\n",
    "                        \n",
    "                        viewMode0 = viewMode\n",
    "                        zoomArr = [zoomLevel]\n",
    "                        numVM = 1\n",
    "                        \n",
    "            except:\n",
    "                pass\n",
    "        \n",
    "        # Pour écrire le dérnier résultat\n",
    "        resultTornikF.write(\"\\t\".join([viewMode0, str(numVM), \",\".join(zoomArr)])+\"\\n\")"
   ]
  }
 ],
 "metadata": {
  "kernelspec": {
   "display_name": "Python 3",
   "language": "python",
   "name": "python3"
  },
  "language_info": {
   "codemirror_mode": {
    "name": "ipython",
    "version": 3
   },
   "file_extension": ".py",
   "mimetype": "text/x-python",
   "name": "python",
   "nbconvert_exporter": "python",
   "pygments_lexer": "ipython3",
   "version": "3.7.1"
  }
 },
 "nbformat": 4,
 "nbformat_minor": 2
}
